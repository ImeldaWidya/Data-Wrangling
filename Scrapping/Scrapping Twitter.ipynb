{
  "cells": [
    {
      "cell_type": "code",
      "execution_count": null,
      "id": "d66abe51-fb14-4f79-8b0c-2d5be439765f",
      "metadata": {
        "id": "d66abe51-fb14-4f79-8b0c-2d5be439765f",
        "outputId": "08b1f6af-7898-471a-c458-c74f9338821c"
      },
      "outputs": [
        {
          "name": "stdout",
          "output_type": "stream",
          "text": [
            "Requirement already satisfied: snscrape in c:\\users\\user\\anaconda3\\lib\\site-packages (0.5.0.20230113)\n",
            "Requirement already satisfied: requests[socks] in c:\\users\\user\\anaconda3\\lib\\site-packages (from snscrape) (2.27.1)\n",
            "Requirement already satisfied: beautifulsoup4 in c:\\users\\user\\anaconda3\\lib\\site-packages (from snscrape) (4.11.1)\n",
            "Requirement already satisfied: filelock in c:\\users\\user\\anaconda3\\lib\\site-packages (from snscrape) (3.6.0)\n",
            "Requirement already satisfied: lxml in c:\\users\\user\\anaconda3\\lib\\site-packages (from snscrape) (4.8.0)\n",
            "Requirement already satisfied: soupsieve>1.2 in c:\\users\\user\\anaconda3\\lib\\site-packages (from beautifulsoup4->snscrape) (2.3.1)\n",
            "Requirement already satisfied: charset-normalizer~=2.0.0 in c:\\users\\user\\anaconda3\\lib\\site-packages (from requests[socks]->snscrape) (2.0.4)\n",
            "Requirement already satisfied: idna<4,>=2.5 in c:\\users\\user\\anaconda3\\lib\\site-packages (from requests[socks]->snscrape) (3.3)\n",
            "Requirement already satisfied: urllib3<1.27,>=1.21.1 in c:\\users\\user\\anaconda3\\lib\\site-packages (from requests[socks]->snscrape) (1.26.9)\n",
            "Requirement already satisfied: certifi>=2017.4.17 in c:\\users\\user\\anaconda3\\lib\\site-packages (from requests[socks]->snscrape) (2021.10.8)\n",
            "Requirement already satisfied: PySocks!=1.5.7,>=1.5.6 in c:\\users\\user\\anaconda3\\lib\\site-packages (from requests[socks]->snscrape) (1.7.1)\n",
            "Note: you may need to restart the kernel to use updated packages.\n"
          ]
        }
      ],
      "source": [
        "pip install snscrape"
      ]
    },
    {
      "cell_type": "code",
      "execution_count": null,
      "id": "c97edb2d-8c86-4b3c-845e-cad46f58c15f",
      "metadata": {
        "id": "c97edb2d-8c86-4b3c-845e-cad46f58c15f",
        "outputId": "db38cd02-157c-4d36-f580-372c2f7abc89"
      },
      "outputs": [
        {
          "name": "stderr",
          "output_type": "stream",
          "text": [
            "C:\\Users\\User\\AppData\\Local\\Temp\\ipykernel_9744\\2775153924.py:12: FutureWarning: content is deprecated, use rawContent instead\n",
            "  tweets_list2.append([tweet.date, tweet.id, tweet.content, tweet.user.username, tweet.likeCount, tweet.retweetCount])\n"
          ]
        }
      ],
      "source": [
        "import snscrape.modules.twitter as sntwitter\n",
        "# Setting variables to be used below\n",
        "maxTweets = 1000\n",
        "\n",
        "# Creating list to append tweet data to\n",
        "tweets_list2 = []\n",
        "\n",
        "# Using TwitterSearchScraper to scrape data and append tweets to list\n",
        "for i,tweet in enumerate(sntwitter.TwitterSearchScraper('blackpink since:2023-01-01 until:2023-02-02').get_items()):\n",
        "    if i>maxTweets:\n",
        "        break\n",
        "    tweets_list2.append([tweet.date, tweet.id, tweet.content, tweet.user.username, tweet.likeCount, tweet.retweetCount])"
      ]
    },
    {
      "cell_type": "code",
      "execution_count": null,
      "id": "4007b728-c68d-4fe6-8372-759ba25c5766",
      "metadata": {
        "id": "4007b728-c68d-4fe6-8372-759ba25c5766",
        "outputId": "000a791e-bef7-433c-b8c6-63e44f4d3e33"
      },
      "outputs": [
        {
          "data": {
            "text/html": [
              "<div>\n",
              "<style scoped>\n",
              "    .dataframe tbody tr th:only-of-type {\n",
              "        vertical-align: middle;\n",
              "    }\n",
              "\n",
              "    .dataframe tbody tr th {\n",
              "        vertical-align: top;\n",
              "    }\n",
              "\n",
              "    .dataframe thead th {\n",
              "        text-align: right;\n",
              "    }\n",
              "</style>\n",
              "<table border=\"1\" class=\"dataframe\">\n",
              "  <thead>\n",
              "    <tr style=\"text-align: right;\">\n",
              "      <th></th>\n",
              "      <th>Datetime</th>\n",
              "      <th>Tweet Id</th>\n",
              "      <th>Text</th>\n",
              "      <th>Username</th>\n",
              "      <th>like_count</th>\n",
              "      <th>retweet_count</th>\n",
              "    </tr>\n",
              "  </thead>\n",
              "  <tbody>\n",
              "    <tr>\n",
              "      <th>0</th>\n",
              "      <td>2023-02-01 23:59:45+00:00</td>\n",
              "      <td>1620934964815761408</td>\n",
              "      <td>@BlinkVotingCrew @BLACKPINK Giraffe\\n\\nI vote ...</td>\n",
              "      <td>yesha_1529</td>\n",
              "      <td>0</td>\n",
              "      <td>0</td>\n",
              "    </tr>\n",
              "    <tr>\n",
              "      <th>1</th>\n",
              "      <td>2023-02-01 23:59:28+00:00</td>\n",
              "      <td>1620934891469930497</td>\n",
              "      <td>anjirr mashup Blackpink X NCT 127 Pink venom x...</td>\n",
              "      <td>DoubleSJ4</td>\n",
              "      <td>0</td>\n",
              "      <td>0</td>\n",
              "    </tr>\n",
              "    <tr>\n",
              "      <th>2</th>\n",
              "      <td>2023-02-01 23:59:27+00:00</td>\n",
              "      <td>1620934889586704384</td>\n",
              "      <td>[INFO] A atriz e modelo americana Devon Aoki c...</td>\n",
              "      <td>PortalAripink</td>\n",
              "      <td>1</td>\n",
              "      <td>0</td>\n",
              "    </tr>\n",
              "    <tr>\n",
              "      <th>3</th>\n",
              "      <td>2023-02-01 23:59:16+00:00</td>\n",
              "      <td>1620934841041620994</td>\n",
              "      <td>Is it just me buh anytime I listen to kpop fem...</td>\n",
              "      <td>theellaoti</td>\n",
              "      <td>0</td>\n",
              "      <td>0</td>\n",
              "    </tr>\n",
              "    <tr>\n",
              "      <th>4</th>\n",
              "      <td>2023-02-01 23:59:15+00:00</td>\n",
              "      <td>1620934839708033024</td>\n",
              "      <td>@BP_4queen Mk Only Blackpink thôi</td>\n",
              "      <td>ThuTruo86302885</td>\n",
              "      <td>0</td>\n",
              "      <td>0</td>\n",
              "    </tr>\n",
              "  </tbody>\n",
              "</table>\n",
              "</div>"
            ],
            "text/plain": [
              "                   Datetime             Tweet Id  \\\n",
              "0 2023-02-01 23:59:45+00:00  1620934964815761408   \n",
              "1 2023-02-01 23:59:28+00:00  1620934891469930497   \n",
              "2 2023-02-01 23:59:27+00:00  1620934889586704384   \n",
              "3 2023-02-01 23:59:16+00:00  1620934841041620994   \n",
              "4 2023-02-01 23:59:15+00:00  1620934839708033024   \n",
              "\n",
              "                                                Text         Username  \\\n",
              "0  @BlinkVotingCrew @BLACKPINK Giraffe\\n\\nI vote ...       yesha_1529   \n",
              "1  anjirr mashup Blackpink X NCT 127 Pink venom x...        DoubleSJ4   \n",
              "2  [INFO] A atriz e modelo americana Devon Aoki c...    PortalAripink   \n",
              "3  Is it just me buh anytime I listen to kpop fem...       theellaoti   \n",
              "4                  @BP_4queen Mk Only Blackpink thôi  ThuTruo86302885   \n",
              "\n",
              "   like_count  retweet_count  \n",
              "0           0              0  \n",
              "1           0              0  \n",
              "2           1              0  \n",
              "3           0              0  \n",
              "4           0              0  "
            ]
          },
          "execution_count": 15,
          "metadata": {},
          "output_type": "execute_result"
        }
      ],
      "source": [
        "# Creating a dataframe from the tweets list above\n",
        "tweets_df2 = pd.DataFrame(tweets_list2, columns=['Datetime', 'Tweet Id', 'Text', 'Username', 'like_count', 'retweet_count'])\n",
        "\n",
        "# Display first 5 entries from dataframe\n",
        "tweets_df2.head()"
      ]
    },
    {
      "cell_type": "code",
      "execution_count": null,
      "id": "e1304cf1-2bc1-491f-a5e7-f27a5cef3faf",
      "metadata": {
        "id": "e1304cf1-2bc1-491f-a5e7-f27a5cef3faf"
      },
      "outputs": [],
      "source": [
        "# Export dataframe into a CSV\n",
        "tweets_df2.to_csv('21083010052_Imelda Widya.csv', sep=',', index=False)"
      ]
    },
    {
      "cell_type": "code",
      "execution_count": null,
      "id": "99b15526-afac-4e19-918c-d391ddbdfd5b",
      "metadata": {
        "id": "99b15526-afac-4e19-918c-d391ddbdfd5b"
      },
      "outputs": [],
      "source": []
    }
  ],
  "metadata": {
    "kernelspec": {
      "display_name": "Python 3 (ipykernel)",
      "language": "python",
      "name": "python3"
    },
    "language_info": {
      "codemirror_mode": {
        "name": "ipython",
        "version": 3
      },
      "file_extension": ".py",
      "mimetype": "text/x-python",
      "name": "python",
      "nbconvert_exporter": "python",
      "pygments_lexer": "ipython3",
      "version": "3.9.12"
    },
    "colab": {
      "provenance": []
    }
  },
  "nbformat": 4,
  "nbformat_minor": 5
}
